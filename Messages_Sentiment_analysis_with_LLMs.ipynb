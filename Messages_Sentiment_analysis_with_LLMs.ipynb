{
  "nbformat": 4,
  "nbformat_minor": 0,
  "metadata": {
    "colab": {
      "provenance": [],
      "authorship_tag": "ABX9TyMYDfJE93Badzt3uP3Hhiu4",
      "include_colab_link": true
    },
    "kernelspec": {
      "name": "python3",
      "display_name": "Python 3"
    },
    "language_info": {
      "name": "python"
    },
    "accelerator": "GPU",
    "gpuClass": "standard"
  },
  "cells": [
    {
      "cell_type": "markdown",
      "metadata": {
        "id": "view-in-github",
        "colab_type": "text"
      },
      "source": [
        "<a href=\"https://colab.research.google.com/github/rsidorchuk93/sentiment/blob/main/Messages_Sentiment_analysis_with_LLMs.ipynb\" target=\"_parent\"><img src=\"https://colab.research.google.com/assets/colab-badge.svg\" alt=\"Open In Colab\"/></a>"
      ]
    },
    {
      "cell_type": "markdown",
      "source": [
        "# Sentiment analysis of messages using pretrained Large Language Models - RoBERTa and BERT"
      ],
      "metadata": {
        "id": "CiS0DsoCfEhg"
      }
    },
    {
      "cell_type": "code",
      "source": [
        "# installing package dependencies\n",
        "pip install transformers"
      ],
      "metadata": {
        "id": "fw5c85yMtGxP"
      },
      "execution_count": null,
      "outputs": []
    },
    {
      "cell_type": "code",
      "source": [
        "pip install sentencepiece"
      ],
      "metadata": {
        "id": "CDgR6fDSI-Dx"
      },
      "execution_count": null,
      "outputs": []
    },
    {
      "cell_type": "code",
      "source": [
        "# importing libraries\n",
        "import numpy as np\n",
        "import pandas as pd\n",
        "from scipy.special import expit\n",
        "import re\n",
        "\n",
        "from transformers import pipeline\n",
        "from transformers import AutoModelForSequenceClassification, TFAutoModelForSequenceClassification\n",
        "from transformers import AutoTokenizer"
      ],
      "metadata": {
        "id": "B4cLXQAgfddc"
      },
      "execution_count": 2,
      "outputs": []
    },
    {
      "cell_type": "code",
      "execution_count": 3,
      "metadata": {
        "id": "2FSGh8czs7NH"
      },
      "outputs": [],
      "source": [
        "# Load the RoBERTa sentiment analysis model trained on Twitter data (on multiple languages) and sample example\n",
        "sentiment_analyzer = pipeline(\"sentiment-analysis\", model=\"cardiffnlp/twitter-xlm-roberta-base-sentiment\", tokenizer=\"cardiffnlp/twitter-xlm-roberta-base-sentiment\")"
      ]
    },
    {
      "cell_type": "code",
      "source": [
        "sentiment_analyzer(\"I love this!\")"
      ],
      "metadata": {
        "colab": {
          "base_uri": "https://localhost:8080/"
        },
        "id": "a2Z9DGRifzhj",
        "outputId": "5600c5c5-1043-44eb-de5b-4fcf6460c86d"
      },
      "execution_count": 4,
      "outputs": [
        {
          "output_type": "execute_result",
          "data": {
            "text/plain": [
              "[{'label': 'positive', 'score': 0.9384338855743408}]"
            ]
          },
          "metadata": {},
          "execution_count": 4
        }
      ]
    },
    {
      "cell_type": "code",
      "source": [
        "# Roberta emotions recognizer - 6 emotions + neutral trained on multiple datasets and sample example, save only top-1 emotion and its score\n",
        "emotions_6_basic = pipeline(\"text-classification\", model=\"j-hartmann/emotion-english-distilroberta-base\", top_k=1)"
      ],
      "metadata": {
        "id": "nGxQiD6GV5Mq"
      },
      "execution_count": 5,
      "outputs": []
    },
    {
      "cell_type": "code",
      "source": [
        "emotions_6_basic(\"I love this!\")"
      ],
      "metadata": {
        "colab": {
          "base_uri": "https://localhost:8080/"
        },
        "id": "Hicg8okEWBRK",
        "outputId": "3206647a-b3f3-4094-cb29-54d5c46ff498"
      },
      "execution_count": 6,
      "outputs": [
        {
          "output_type": "execute_result",
          "data": {
            "text/plain": [
              "[[{'label': 'joy', 'score': 0.9771687984466553}]]"
            ]
          },
          "metadata": {},
          "execution_count": 6
        }
      ]
    },
    {
      "cell_type": "code",
      "source": [
        "# Distilled BERT emotions recognizer - granular emotions based on Reddit data, save only top-1 emotion and its score\n",
        "emotions_granular = pipeline(\"text-classification\", model=\"joeddav/distilbert-base-uncased-go-emotions-student\", top_k=1)"
      ],
      "metadata": {
        "id": "6Cq4eCjpbZ2S"
      },
      "execution_count": 7,
      "outputs": []
    },
    {
      "cell_type": "code",
      "source": [
        "emotions_granular(\"I love this!\")"
      ],
      "metadata": {
        "colab": {
          "base_uri": "https://localhost:8080/"
        },
        "id": "LK1IJLzicep7",
        "outputId": "9226bb53-f8b0-4da0-8262-7bc635983122"
      },
      "execution_count": 8,
      "outputs": [
        {
          "output_type": "execute_result",
          "data": {
            "text/plain": [
              "[[{'label': 'excitement', 'score': 0.17616184055805206}]]"
            ]
          },
          "metadata": {},
          "execution_count": 8
        }
      ]
    },
    {
      "cell_type": "code",
      "source": [
        "# Tweet topic model for multi-label topic classification and example\n",
        "MODEL = f\"cardiffnlp/tweet-topic-21-multi\"\n",
        "tokenizer = AutoTokenizer.from_pretrained(MODEL)\n",
        "\n",
        "# PT\n",
        "model = AutoModelForSequenceClassification.from_pretrained(MODEL)\n",
        "class_mapping = model.config.id2label\n",
        "\n",
        "text = \"It is great to see athletes promoting awareness for climate change.\"\n",
        "tokens = tokenizer(text, return_tensors='pt')\n",
        "output = model(**tokens)\n",
        "\n",
        "scores = output[0][0].detach().numpy()\n",
        "scores = expit(scores)\n",
        "predictions = (scores >= 0.5) * 1\n",
        "\n",
        "# Get the index of the highest probability score\n",
        "max_idx = np.argmax(scores)\n",
        "\n",
        "# Map the index to the corresponding class label\n",
        "category = class_mapping[max_idx]\n",
        "\n",
        "# Get the score of the predicted category\n",
        "score = scores[max_idx]\n",
        "\n",
        "# Print the predicted category and its score\n",
        "print(f\"Category: {category}, Score: {score}\")"
      ],
      "metadata": {
        "colab": {
          "base_uri": "https://localhost:8080/"
        },
        "id": "uhDUEF9ul5_6",
        "outputId": "09015dcf-9c2f-46bf-af79-3b1f4afeff03"
      },
      "execution_count": 9,
      "outputs": [
        {
          "output_type": "stream",
          "name": "stdout",
          "text": [
            "Category: sports, Score: 0.9753940105438232\n"
          ]
        }
      ]
    },
    {
      "cell_type": "code",
      "source": [
        "#Read the text file with Whatsapp messages into a list of strings, where each string corresponds to a single message in the file. Messages can be dowloaded from your Whatsapp chat\n",
        "with open('_chat_friend.txt', 'r') as f:\n",
        "    messages = f.readlines()"
      ],
      "metadata": {
        "id": "haxJdrE803I3"
      },
      "execution_count": 10,
      "outputs": []
    },
    {
      "cell_type": "code",
      "source": [
        "#Split each message string into separate columns for the header, timestamp, sender, and message using regular expressions. \n",
        "#The regular expression pattern r'^\\[(.+)\\] (.+): (.+)$' can be used to match the timestamp, sender, and message in each message string.\n",
        "data = []\n",
        "for message in messages:\n",
        "    match = re.match(r'^\\[(.+)\\] (.+): (.+)$', message)\n",
        "    if match:\n",
        "        timestamp = match.group(1)\n",
        "        sender = match.group(2)\n",
        "        message_text = match.group(3)\n",
        "        data.append([timestamp, sender, message_text])"
      ],
      "metadata": {
        "id": "zjrsotLz03u2"
      },
      "execution_count": 11,
      "outputs": []
    },
    {
      "cell_type": "code",
      "source": [
        "#Convert the list of message data into a pandas DataFrame and set the column names.\n",
        "df = pd.DataFrame(data, columns=['timestamp', 'sender', 'message'])"
      ],
      "metadata": {
        "id": "9tdXY3RP1J8Z"
      },
      "execution_count": 12,
      "outputs": []
    },
    {
      "cell_type": "code",
      "source": [
        "# expand max column width so that we could see more content and explore\n",
        "pd.set_option('max_colwidth', 300)\n",
        "df.tail(3)"
      ],
      "metadata": {
        "colab": {
          "base_uri": "https://localhost:8080/",
          "height": 144
        },
        "id": "rEay1JTh1Rzr",
        "outputId": "b02523aa-9819-4f90-aae7-435051dd5c4e"
      },
      "execution_count": 13,
      "outputs": [
        {
          "output_type": "execute_result",
          "data": {
            "text/plain": [
              "              timestamp  sender  \\\n",
              "370  12/31/22, 18:21:08  Friend   \n",
              "371  12/31/22, 18:21:25   Roman   \n",
              "372    2/5/23, 19:50:12  Friend   \n",
              "\n",
              "                                                           message  \n",
              "370                                           Happy new year Roman  \n",
              "371                                                    Thank you 🙏  \n",
              "372  ‎‎Your security code with Friend changed. ‎Tap to learn more.  "
            ],
            "text/html": [
              "\n",
              "  <div id=\"df-8a0ab626-4874-4a52-9fcf-3a3d79efae71\">\n",
              "    <div class=\"colab-df-container\">\n",
              "      <div>\n",
              "<style scoped>\n",
              "    .dataframe tbody tr th:only-of-type {\n",
              "        vertical-align: middle;\n",
              "    }\n",
              "\n",
              "    .dataframe tbody tr th {\n",
              "        vertical-align: top;\n",
              "    }\n",
              "\n",
              "    .dataframe thead th {\n",
              "        text-align: right;\n",
              "    }\n",
              "</style>\n",
              "<table border=\"1\" class=\"dataframe\">\n",
              "  <thead>\n",
              "    <tr style=\"text-align: right;\">\n",
              "      <th></th>\n",
              "      <th>timestamp</th>\n",
              "      <th>sender</th>\n",
              "      <th>message</th>\n",
              "    </tr>\n",
              "  </thead>\n",
              "  <tbody>\n",
              "    <tr>\n",
              "      <th>370</th>\n",
              "      <td>12/31/22, 18:21:08</td>\n",
              "      <td>Friend</td>\n",
              "      <td>Happy new year Roman</td>\n",
              "    </tr>\n",
              "    <tr>\n",
              "      <th>371</th>\n",
              "      <td>12/31/22, 18:21:25</td>\n",
              "      <td>Roman</td>\n",
              "      <td>Thank you 🙏</td>\n",
              "    </tr>\n",
              "    <tr>\n",
              "      <th>372</th>\n",
              "      <td>2/5/23, 19:50:12</td>\n",
              "      <td>Friend</td>\n",
              "      <td>‎‎Your security code with Friend changed. ‎Tap to learn more.</td>\n",
              "    </tr>\n",
              "  </tbody>\n",
              "</table>\n",
              "</div>\n",
              "      <button class=\"colab-df-convert\" onclick=\"convertToInteractive('df-8a0ab626-4874-4a52-9fcf-3a3d79efae71')\"\n",
              "              title=\"Convert this dataframe to an interactive table.\"\n",
              "              style=\"display:none;\">\n",
              "        \n",
              "  <svg xmlns=\"http://www.w3.org/2000/svg\" height=\"24px\"viewBox=\"0 0 24 24\"\n",
              "       width=\"24px\">\n",
              "    <path d=\"M0 0h24v24H0V0z\" fill=\"none\"/>\n",
              "    <path d=\"M18.56 5.44l.94 2.06.94-2.06 2.06-.94-2.06-.94-.94-2.06-.94 2.06-2.06.94zm-11 1L8.5 8.5l.94-2.06 2.06-.94-2.06-.94L8.5 2.5l-.94 2.06-2.06.94zm10 10l.94 2.06.94-2.06 2.06-.94-2.06-.94-.94-2.06-.94 2.06-2.06.94z\"/><path d=\"M17.41 7.96l-1.37-1.37c-.4-.4-.92-.59-1.43-.59-.52 0-1.04.2-1.43.59L10.3 9.45l-7.72 7.72c-.78.78-.78 2.05 0 2.83L4 21.41c.39.39.9.59 1.41.59.51 0 1.02-.2 1.41-.59l7.78-7.78 2.81-2.81c.8-.78.8-2.07 0-2.86zM5.41 20L4 18.59l7.72-7.72 1.47 1.35L5.41 20z\"/>\n",
              "  </svg>\n",
              "      </button>\n",
              "      \n",
              "  <style>\n",
              "    .colab-df-container {\n",
              "      display:flex;\n",
              "      flex-wrap:wrap;\n",
              "      gap: 12px;\n",
              "    }\n",
              "\n",
              "    .colab-df-convert {\n",
              "      background-color: #E8F0FE;\n",
              "      border: none;\n",
              "      border-radius: 50%;\n",
              "      cursor: pointer;\n",
              "      display: none;\n",
              "      fill: #1967D2;\n",
              "      height: 32px;\n",
              "      padding: 0 0 0 0;\n",
              "      width: 32px;\n",
              "    }\n",
              "\n",
              "    .colab-df-convert:hover {\n",
              "      background-color: #E2EBFA;\n",
              "      box-shadow: 0px 1px 2px rgba(60, 64, 67, 0.3), 0px 1px 3px 1px rgba(60, 64, 67, 0.15);\n",
              "      fill: #174EA6;\n",
              "    }\n",
              "\n",
              "    [theme=dark] .colab-df-convert {\n",
              "      background-color: #3B4455;\n",
              "      fill: #D2E3FC;\n",
              "    }\n",
              "\n",
              "    [theme=dark] .colab-df-convert:hover {\n",
              "      background-color: #434B5C;\n",
              "      box-shadow: 0px 1px 3px 1px rgba(0, 0, 0, 0.15);\n",
              "      filter: drop-shadow(0px 1px 2px rgba(0, 0, 0, 0.3));\n",
              "      fill: #FFFFFF;\n",
              "    }\n",
              "  </style>\n",
              "\n",
              "      <script>\n",
              "        const buttonEl =\n",
              "          document.querySelector('#df-8a0ab626-4874-4a52-9fcf-3a3d79efae71 button.colab-df-convert');\n",
              "        buttonEl.style.display =\n",
              "          google.colab.kernel.accessAllowed ? 'block' : 'none';\n",
              "\n",
              "        async function convertToInteractive(key) {\n",
              "          const element = document.querySelector('#df-8a0ab626-4874-4a52-9fcf-3a3d79efae71');\n",
              "          const dataTable =\n",
              "            await google.colab.kernel.invokeFunction('convertToInteractive',\n",
              "                                                     [key], {});\n",
              "          if (!dataTable) return;\n",
              "\n",
              "          const docLinkHtml = 'Like what you see? Visit the ' +\n",
              "            '<a target=\"_blank\" href=https://colab.research.google.com/notebooks/data_table.ipynb>data table notebook</a>'\n",
              "            + ' to learn more about interactive tables.';\n",
              "          element.innerHTML = '';\n",
              "          dataTable['output_type'] = 'display_data';\n",
              "          await google.colab.output.renderOutput(dataTable, element);\n",
              "          const docLink = document.createElement('div');\n",
              "          docLink.innerHTML = docLinkHtml;\n",
              "          element.appendChild(docLink);\n",
              "        }\n",
              "      </script>\n",
              "    </div>\n",
              "  </div>\n",
              "  "
            ]
          },
          "metadata": {},
          "execution_count": 13
        }
      ]
    },
    {
      "cell_type": "code",
      "source": [
        "# Filter out leaving only longer messages\n",
        "# Define a function to count the number of words in a message\n",
        "def count_words(message):\n",
        "    words = message.split()\n",
        "    return len(words)\n",
        "\n",
        "# Apply the function to the 'text' column to get a Boolean mask\n",
        "mask = df['message'].apply(lambda x: count_words(x) > 10)\n",
        "\n",
        "# Filter the DataFrame using the mask\n",
        "filtered_df = df[mask]\n",
        "\n",
        "# Display the filtered DataFrame\n",
        "filtered_df.head(5)"
      ],
      "metadata": {
        "colab": {
          "base_uri": "https://localhost:8080/",
          "height": 206
        },
        "id": "KmPjDa3C39TS",
        "outputId": "f705607c-df0d-4054-a505-b6c7a6897c64"
      },
      "execution_count": 23,
      "outputs": [
        {
          "output_type": "execute_result",
          "data": {
            "text/plain": [
              "            timestamp  sender  \\\n",
              "0   5/21/22, 14:20:25  Friend   \n",
              "15  5/25/22, 18:13:15   Roman   \n",
              "19  5/25/22, 18:14:52   Roman   \n",
              "24  5/25/22, 20:55:39   Roman   \n",
              "30  5/26/22, 15:29:39   Roman   \n",
              "\n",
              "                                                                                                                      message  \n",
              "0   ‎Messages and calls are end-to-end encrypted. No one outside of this chat, not even WhatsApp, can read or listen to them.  \n",
              "15                                                            What time you finish barbecue tonight? I will be in Tesoro area  \n",
              "19                                                                       I might be either by myself or with a friend or date  \n",
              "24                                                                    How is barbecue going? I’ll come with a friend in 15-20  \n",
              "30                                                                   I‘ll text you next time I’m in Tesoro area to pick it up  "
            ],
            "text/html": [
              "\n",
              "  <div id=\"df-8b9efab6-5646-4a47-b834-1e56dbfe1c51\">\n",
              "    <div class=\"colab-df-container\">\n",
              "      <div>\n",
              "<style scoped>\n",
              "    .dataframe tbody tr th:only-of-type {\n",
              "        vertical-align: middle;\n",
              "    }\n",
              "\n",
              "    .dataframe tbody tr th {\n",
              "        vertical-align: top;\n",
              "    }\n",
              "\n",
              "    .dataframe thead th {\n",
              "        text-align: right;\n",
              "    }\n",
              "</style>\n",
              "<table border=\"1\" class=\"dataframe\">\n",
              "  <thead>\n",
              "    <tr style=\"text-align: right;\">\n",
              "      <th></th>\n",
              "      <th>timestamp</th>\n",
              "      <th>sender</th>\n",
              "      <th>message</th>\n",
              "    </tr>\n",
              "  </thead>\n",
              "  <tbody>\n",
              "    <tr>\n",
              "      <th>0</th>\n",
              "      <td>5/21/22, 14:20:25</td>\n",
              "      <td>Friend</td>\n",
              "      <td>‎Messages and calls are end-to-end encrypted. No one outside of this chat, not even WhatsApp, can read or listen to them.</td>\n",
              "    </tr>\n",
              "    <tr>\n",
              "      <th>15</th>\n",
              "      <td>5/25/22, 18:13:15</td>\n",
              "      <td>Roman</td>\n",
              "      <td>What time you finish barbecue tonight? I will be in Tesoro area</td>\n",
              "    </tr>\n",
              "    <tr>\n",
              "      <th>19</th>\n",
              "      <td>5/25/22, 18:14:52</td>\n",
              "      <td>Roman</td>\n",
              "      <td>I might be either by myself or with a friend or date</td>\n",
              "    </tr>\n",
              "    <tr>\n",
              "      <th>24</th>\n",
              "      <td>5/25/22, 20:55:39</td>\n",
              "      <td>Roman</td>\n",
              "      <td>How is barbecue going? I’ll come with a friend in 15-20</td>\n",
              "    </tr>\n",
              "    <tr>\n",
              "      <th>30</th>\n",
              "      <td>5/26/22, 15:29:39</td>\n",
              "      <td>Roman</td>\n",
              "      <td>I‘ll text you next time I’m in Tesoro area to pick it up</td>\n",
              "    </tr>\n",
              "  </tbody>\n",
              "</table>\n",
              "</div>\n",
              "      <button class=\"colab-df-convert\" onclick=\"convertToInteractive('df-8b9efab6-5646-4a47-b834-1e56dbfe1c51')\"\n",
              "              title=\"Convert this dataframe to an interactive table.\"\n",
              "              style=\"display:none;\">\n",
              "        \n",
              "  <svg xmlns=\"http://www.w3.org/2000/svg\" height=\"24px\"viewBox=\"0 0 24 24\"\n",
              "       width=\"24px\">\n",
              "    <path d=\"M0 0h24v24H0V0z\" fill=\"none\"/>\n",
              "    <path d=\"M18.56 5.44l.94 2.06.94-2.06 2.06-.94-2.06-.94-.94-2.06-.94 2.06-2.06.94zm-11 1L8.5 8.5l.94-2.06 2.06-.94-2.06-.94L8.5 2.5l-.94 2.06-2.06.94zm10 10l.94 2.06.94-2.06 2.06-.94-2.06-.94-.94-2.06-.94 2.06-2.06.94z\"/><path d=\"M17.41 7.96l-1.37-1.37c-.4-.4-.92-.59-1.43-.59-.52 0-1.04.2-1.43.59L10.3 9.45l-7.72 7.72c-.78.78-.78 2.05 0 2.83L4 21.41c.39.39.9.59 1.41.59.51 0 1.02-.2 1.41-.59l7.78-7.78 2.81-2.81c.8-.78.8-2.07 0-2.86zM5.41 20L4 18.59l7.72-7.72 1.47 1.35L5.41 20z\"/>\n",
              "  </svg>\n",
              "      </button>\n",
              "      \n",
              "  <style>\n",
              "    .colab-df-container {\n",
              "      display:flex;\n",
              "      flex-wrap:wrap;\n",
              "      gap: 12px;\n",
              "    }\n",
              "\n",
              "    .colab-df-convert {\n",
              "      background-color: #E8F0FE;\n",
              "      border: none;\n",
              "      border-radius: 50%;\n",
              "      cursor: pointer;\n",
              "      display: none;\n",
              "      fill: #1967D2;\n",
              "      height: 32px;\n",
              "      padding: 0 0 0 0;\n",
              "      width: 32px;\n",
              "    }\n",
              "\n",
              "    .colab-df-convert:hover {\n",
              "      background-color: #E2EBFA;\n",
              "      box-shadow: 0px 1px 2px rgba(60, 64, 67, 0.3), 0px 1px 3px 1px rgba(60, 64, 67, 0.15);\n",
              "      fill: #174EA6;\n",
              "    }\n",
              "\n",
              "    [theme=dark] .colab-df-convert {\n",
              "      background-color: #3B4455;\n",
              "      fill: #D2E3FC;\n",
              "    }\n",
              "\n",
              "    [theme=dark] .colab-df-convert:hover {\n",
              "      background-color: #434B5C;\n",
              "      box-shadow: 0px 1px 3px 1px rgba(0, 0, 0, 0.15);\n",
              "      filter: drop-shadow(0px 1px 2px rgba(0, 0, 0, 0.3));\n",
              "      fill: #FFFFFF;\n",
              "    }\n",
              "  </style>\n",
              "\n",
              "      <script>\n",
              "        const buttonEl =\n",
              "          document.querySelector('#df-8b9efab6-5646-4a47-b834-1e56dbfe1c51 button.colab-df-convert');\n",
              "        buttonEl.style.display =\n",
              "          google.colab.kernel.accessAllowed ? 'block' : 'none';\n",
              "\n",
              "        async function convertToInteractive(key) {\n",
              "          const element = document.querySelector('#df-8b9efab6-5646-4a47-b834-1e56dbfe1c51');\n",
              "          const dataTable =\n",
              "            await google.colab.kernel.invokeFunction('convertToInteractive',\n",
              "                                                     [key], {});\n",
              "          if (!dataTable) return;\n",
              "\n",
              "          const docLinkHtml = 'Like what you see? Visit the ' +\n",
              "            '<a target=\"_blank\" href=https://colab.research.google.com/notebooks/data_table.ipynb>data table notebook</a>'\n",
              "            + ' to learn more about interactive tables.';\n",
              "          element.innerHTML = '';\n",
              "          dataTable['output_type'] = 'display_data';\n",
              "          await google.colab.output.renderOutput(dataTable, element);\n",
              "          const docLink = document.createElement('div');\n",
              "          docLink.innerHTML = docLinkHtml;\n",
              "          element.appendChild(docLink);\n",
              "        }\n",
              "      </script>\n",
              "    </div>\n",
              "  </div>\n",
              "  "
            ]
          },
          "metadata": {},
          "execution_count": 23
        }
      ]
    },
    {
      "cell_type": "code",
      "source": [
        "# Calculate sentiment and sentiment score for the messages\n",
        "# Define a function to apply the sentiment analysis to each row of the DataFrame\n",
        "def sentiment_analysis(row):\n",
        "    text = row['message']\n",
        "    result = sentiment_analyzer(text)\n",
        "    emotion = result[0]['label']  \n",
        "    score = result[0]['score']\n",
        "    return pd.Series({'sentiment': emotion, 'score_score': score})\n",
        "\n",
        "# Apply the classification function to each row of the DataFrame and add the results as new columns\n",
        "sentiment_df = filtered_df.apply(sentiment_analysis, axis=1)\n",
        "filtered_df = pd.concat([filtered_df, sentiment_df], axis=1)"
      ],
      "metadata": {
        "id": "fumAVljX55_Z"
      },
      "execution_count": 24,
      "outputs": []
    },
    {
      "cell_type": "code",
      "source": [
        "# Define a function to apply the emotion analysis with basic emotions to each row of the DataFrame\n",
        "def classify_emotion(row):\n",
        "    text = row['message']\n",
        "    result = emotions_6_basic(text)\n",
        "    emotion = result[0][0]['label']  \n",
        "    score = result[0][0]['score']\n",
        "    return pd.Series({'top_emotion': emotion, 'score_top_emotion': score})\n",
        "\n",
        "# Apply the classification function to each row of the DataFrame and add the results as new columns\n",
        "emotion_df = filtered_df.apply(classify_emotion, axis=1)\n",
        "filtered_df = pd.concat([filtered_df, emotion_df], axis=1)"
      ],
      "metadata": {
        "id": "KmujgYM-W8Ws"
      },
      "execution_count": 25,
      "outputs": []
    },
    {
      "cell_type": "code",
      "source": [
        "# Define a function to apply granular emotion analysis to each row of the DataFrame\n",
        "def classify_granular_emotion(row):\n",
        "    text = row['message']\n",
        "    result = emotions_granular(text)\n",
        "    emotion = result[0][0]['label']  \n",
        "    score = result[0][0]['score']\n",
        "    return pd.Series({'top_emotion_granular': emotion, 'score_top_emotion_granular': score})\n",
        "\n",
        "# Apply the classification function to each row of the DataFrame and add the results as new columns\n",
        "emotion_granular_df = filtered_df.apply(classify_granular_emotion, axis=1)\n",
        "filtered_df = pd.concat([filtered_df, emotion_granular_df], axis=1)"
      ],
      "metadata": {
        "id": "TubGDrunkl5F"
      },
      "execution_count": 26,
      "outputs": []
    },
    {
      "cell_type": "code",
      "source": [
        "# Define a function to apply the topic classifier to each row of the DataFrame\n",
        "def classify_topic(row):\n",
        "    text = row['message']\n",
        "    tokens = tokenizer(text, return_tensors='pt')\n",
        "    output = model(**tokens)\n",
        "    scores = output[0][0].detach().numpy()\n",
        "    scores = expit(scores)\n",
        "    max_idx = np.argmax(scores)\n",
        "    category = class_mapping[max_idx]\n",
        "    score = scores[max_idx]\n",
        "    return pd.Series({'top_cat': category, 'score_top_cat': score})\n",
        "    \n",
        "# Apply the classification function to each row of the DataFrame and add the results as new columns\n",
        "topic_df = filtered_df.apply(classify_topic, axis=1)\n",
        "filtered_df = filtered_df.join(topic_df, rsuffix='_topic')"
      ],
      "metadata": {
        "id": "qsFO8baHTcMX"
      },
      "execution_count": 27,
      "outputs": []
    },
    {
      "cell_type": "code",
      "source": [
        "# filtering out non-neutral messages with higher confidence score\n",
        "filtered_df2 = filtered_df.loc[(filtered_df['top_emotion'] != 'neutral') & (filtered_df['score_top_emotion'] >= 0.4)]\n",
        "filtered_df2.head(5)"
      ],
      "metadata": {
        "colab": {
          "base_uri": "https://localhost:8080/",
          "height": 354
        },
        "id": "xQbtgJfX72UL",
        "outputId": "c573e3e4-6254-4c72-fc7e-110efd5abf74"
      },
      "execution_count": 29,
      "outputs": [
        {
          "output_type": "execute_result",
          "data": {
            "text/plain": [
              "            timestamp  sender  \\\n",
              "19  5/25/22, 18:14:52   Roman   \n",
              "32  5/26/22, 15:30:12   Roman   \n",
              "62   6/7/22, 21:13:36  Friend   \n",
              "65   6/7/22, 21:15:16   Roman   \n",
              "81   6/8/22, 15:17:18   Roman   \n",
              "\n",
              "                                                                                                                                    message  \\\n",
              "19                                                                                     I might be either by myself or with a friend or date   \n",
              "32                                                                             Thank you again for hosting the barbecue, I enjoyed it a lot   \n",
              "62                                                                       Thanks for info but i’m already celebrating today “special” day :D   \n",
              "65                                                                                 I have a birthday on Thursday and then fly back to Miami   \n",
              "81  I’m flying back to Miami Fri evening, will start a new job next week and then will feel comfortable there might come back in the summer   \n",
              "\n",
              "   sentiment  score_score top_emotion  score_top_emotion top_emotion_granular  \\\n",
              "19   neutral     0.724858         joy           0.864997          realization   \n",
              "32  positive     0.942568         joy           0.979190            gratitude   \n",
              "62  positive     0.833026         joy           0.835772            gratitude   \n",
              "65   neutral     0.745027         joy           0.888197           excitement   \n",
              "81  positive     0.636370         joy           0.988632             optimism   \n",
              "\n",
              "    score_top_emotion_granular               top_cat  score_top_cat  \n",
              "19                    0.101312  diaries_&_daily_life       0.887935  \n",
              "32                    0.352599         food_&_dining       0.877189  \n",
              "62                    0.234464  diaries_&_daily_life       0.944799  \n",
              "65                    0.106410    travel_&_adventure       0.826996  \n",
              "81                    0.160265    travel_&_adventure       0.830760  "
            ],
            "text/html": [
              "\n",
              "  <div id=\"df-6e772a8b-56a3-4948-8b71-70cdefbf5be3\">\n",
              "    <div class=\"colab-df-container\">\n",
              "      <div>\n",
              "<style scoped>\n",
              "    .dataframe tbody tr th:only-of-type {\n",
              "        vertical-align: middle;\n",
              "    }\n",
              "\n",
              "    .dataframe tbody tr th {\n",
              "        vertical-align: top;\n",
              "    }\n",
              "\n",
              "    .dataframe thead th {\n",
              "        text-align: right;\n",
              "    }\n",
              "</style>\n",
              "<table border=\"1\" class=\"dataframe\">\n",
              "  <thead>\n",
              "    <tr style=\"text-align: right;\">\n",
              "      <th></th>\n",
              "      <th>timestamp</th>\n",
              "      <th>sender</th>\n",
              "      <th>message</th>\n",
              "      <th>sentiment</th>\n",
              "      <th>score_score</th>\n",
              "      <th>top_emotion</th>\n",
              "      <th>score_top_emotion</th>\n",
              "      <th>top_emotion_granular</th>\n",
              "      <th>score_top_emotion_granular</th>\n",
              "      <th>top_cat</th>\n",
              "      <th>score_top_cat</th>\n",
              "    </tr>\n",
              "  </thead>\n",
              "  <tbody>\n",
              "    <tr>\n",
              "      <th>19</th>\n",
              "      <td>5/25/22, 18:14:52</td>\n",
              "      <td>Roman</td>\n",
              "      <td>I might be either by myself or with a friend or date</td>\n",
              "      <td>neutral</td>\n",
              "      <td>0.724858</td>\n",
              "      <td>joy</td>\n",
              "      <td>0.864997</td>\n",
              "      <td>realization</td>\n",
              "      <td>0.101312</td>\n",
              "      <td>diaries_&amp;_daily_life</td>\n",
              "      <td>0.887935</td>\n",
              "    </tr>\n",
              "    <tr>\n",
              "      <th>32</th>\n",
              "      <td>5/26/22, 15:30:12</td>\n",
              "      <td>Roman</td>\n",
              "      <td>Thank you again for hosting the barbecue, I enjoyed it a lot</td>\n",
              "      <td>positive</td>\n",
              "      <td>0.942568</td>\n",
              "      <td>joy</td>\n",
              "      <td>0.979190</td>\n",
              "      <td>gratitude</td>\n",
              "      <td>0.352599</td>\n",
              "      <td>food_&amp;_dining</td>\n",
              "      <td>0.877189</td>\n",
              "    </tr>\n",
              "    <tr>\n",
              "      <th>62</th>\n",
              "      <td>6/7/22, 21:13:36</td>\n",
              "      <td>Friend</td>\n",
              "      <td>Thanks for info but i’m already celebrating today “special” day :D</td>\n",
              "      <td>positive</td>\n",
              "      <td>0.833026</td>\n",
              "      <td>joy</td>\n",
              "      <td>0.835772</td>\n",
              "      <td>gratitude</td>\n",
              "      <td>0.234464</td>\n",
              "      <td>diaries_&amp;_daily_life</td>\n",
              "      <td>0.944799</td>\n",
              "    </tr>\n",
              "    <tr>\n",
              "      <th>65</th>\n",
              "      <td>6/7/22, 21:15:16</td>\n",
              "      <td>Roman</td>\n",
              "      <td>I have a birthday on Thursday and then fly back to Miami</td>\n",
              "      <td>neutral</td>\n",
              "      <td>0.745027</td>\n",
              "      <td>joy</td>\n",
              "      <td>0.888197</td>\n",
              "      <td>excitement</td>\n",
              "      <td>0.106410</td>\n",
              "      <td>travel_&amp;_adventure</td>\n",
              "      <td>0.826996</td>\n",
              "    </tr>\n",
              "    <tr>\n",
              "      <th>81</th>\n",
              "      <td>6/8/22, 15:17:18</td>\n",
              "      <td>Roman</td>\n",
              "      <td>I’m flying back to Miami Fri evening, will start a new job next week and then will feel comfortable there might come back in the summer</td>\n",
              "      <td>positive</td>\n",
              "      <td>0.636370</td>\n",
              "      <td>joy</td>\n",
              "      <td>0.988632</td>\n",
              "      <td>optimism</td>\n",
              "      <td>0.160265</td>\n",
              "      <td>travel_&amp;_adventure</td>\n",
              "      <td>0.830760</td>\n",
              "    </tr>\n",
              "  </tbody>\n",
              "</table>\n",
              "</div>\n",
              "      <button class=\"colab-df-convert\" onclick=\"convertToInteractive('df-6e772a8b-56a3-4948-8b71-70cdefbf5be3')\"\n",
              "              title=\"Convert this dataframe to an interactive table.\"\n",
              "              style=\"display:none;\">\n",
              "        \n",
              "  <svg xmlns=\"http://www.w3.org/2000/svg\" height=\"24px\"viewBox=\"0 0 24 24\"\n",
              "       width=\"24px\">\n",
              "    <path d=\"M0 0h24v24H0V0z\" fill=\"none\"/>\n",
              "    <path d=\"M18.56 5.44l.94 2.06.94-2.06 2.06-.94-2.06-.94-.94-2.06-.94 2.06-2.06.94zm-11 1L8.5 8.5l.94-2.06 2.06-.94-2.06-.94L8.5 2.5l-.94 2.06-2.06.94zm10 10l.94 2.06.94-2.06 2.06-.94-2.06-.94-.94-2.06-.94 2.06-2.06.94z\"/><path d=\"M17.41 7.96l-1.37-1.37c-.4-.4-.92-.59-1.43-.59-.52 0-1.04.2-1.43.59L10.3 9.45l-7.72 7.72c-.78.78-.78 2.05 0 2.83L4 21.41c.39.39.9.59 1.41.59.51 0 1.02-.2 1.41-.59l7.78-7.78 2.81-2.81c.8-.78.8-2.07 0-2.86zM5.41 20L4 18.59l7.72-7.72 1.47 1.35L5.41 20z\"/>\n",
              "  </svg>\n",
              "      </button>\n",
              "      \n",
              "  <style>\n",
              "    .colab-df-container {\n",
              "      display:flex;\n",
              "      flex-wrap:wrap;\n",
              "      gap: 12px;\n",
              "    }\n",
              "\n",
              "    .colab-df-convert {\n",
              "      background-color: #E8F0FE;\n",
              "      border: none;\n",
              "      border-radius: 50%;\n",
              "      cursor: pointer;\n",
              "      display: none;\n",
              "      fill: #1967D2;\n",
              "      height: 32px;\n",
              "      padding: 0 0 0 0;\n",
              "      width: 32px;\n",
              "    }\n",
              "\n",
              "    .colab-df-convert:hover {\n",
              "      background-color: #E2EBFA;\n",
              "      box-shadow: 0px 1px 2px rgba(60, 64, 67, 0.3), 0px 1px 3px 1px rgba(60, 64, 67, 0.15);\n",
              "      fill: #174EA6;\n",
              "    }\n",
              "\n",
              "    [theme=dark] .colab-df-convert {\n",
              "      background-color: #3B4455;\n",
              "      fill: #D2E3FC;\n",
              "    }\n",
              "\n",
              "    [theme=dark] .colab-df-convert:hover {\n",
              "      background-color: #434B5C;\n",
              "      box-shadow: 0px 1px 3px 1px rgba(0, 0, 0, 0.15);\n",
              "      filter: drop-shadow(0px 1px 2px rgba(0, 0, 0, 0.3));\n",
              "      fill: #FFFFFF;\n",
              "    }\n",
              "  </style>\n",
              "\n",
              "      <script>\n",
              "        const buttonEl =\n",
              "          document.querySelector('#df-6e772a8b-56a3-4948-8b71-70cdefbf5be3 button.colab-df-convert');\n",
              "        buttonEl.style.display =\n",
              "          google.colab.kernel.accessAllowed ? 'block' : 'none';\n",
              "\n",
              "        async function convertToInteractive(key) {\n",
              "          const element = document.querySelector('#df-6e772a8b-56a3-4948-8b71-70cdefbf5be3');\n",
              "          const dataTable =\n",
              "            await google.colab.kernel.invokeFunction('convertToInteractive',\n",
              "                                                     [key], {});\n",
              "          if (!dataTable) return;\n",
              "\n",
              "          const docLinkHtml = 'Like what you see? Visit the ' +\n",
              "            '<a target=\"_blank\" href=https://colab.research.google.com/notebooks/data_table.ipynb>data table notebook</a>'\n",
              "            + ' to learn more about interactive tables.';\n",
              "          element.innerHTML = '';\n",
              "          dataTable['output_type'] = 'display_data';\n",
              "          await google.colab.output.renderOutput(dataTable, element);\n",
              "          const docLink = document.createElement('div');\n",
              "          docLink.innerHTML = docLinkHtml;\n",
              "          element.appendChild(docLink);\n",
              "        }\n",
              "      </script>\n",
              "    </div>\n",
              "  </div>\n",
              "  "
            ]
          },
          "metadata": {},
          "execution_count": 29
        }
      ]
    },
    {
      "cell_type": "markdown",
      "source": [
        "# Insights\n",
        "*   Classified emotions - major 6 emotions (+ neutral), granular emotions, and message topic \n",
        "\n"
      ],
      "metadata": {
        "id": "jOpRTWP4j1UP"
      }
    }
  ]
}